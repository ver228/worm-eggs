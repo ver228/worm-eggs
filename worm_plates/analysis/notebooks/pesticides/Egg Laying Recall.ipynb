{
 "cells": [
  {
   "cell_type": "code",
   "execution_count": 1,
   "metadata": {},
   "outputs": [
    {
     "name": "stderr",
     "output_type": "stream",
     "text": [
      "Reading Ground Truth Files: 100%|██████████| 1080/1080 [00:04<00:00, 230.78it/s]\n",
      "Reading Events Files: 100%|██████████| 1815/1815 [00:08<00:00, 223.50it/s]\n",
      "Reading Events Filtered Files: 100%|██████████| 1815/1815 [00:08<00:00, 223.03it/s]\n"
     ]
    }
   ],
   "source": [
    "from pathlib import Path\n",
    "import pandas as pd\n",
    "from tqdm import tqdm\n",
    "from cell_localization.evaluation import score_coordinates\n",
    "import numpy as np\n",
    "\n",
    "def _read_egg_files(src_dir, ext, desc):\n",
    "    fnames = src_dir.rglob('*' + ext)\n",
    "    fnames = [x for x in fnames if not x.name.startswith('.')]\n",
    "    \n",
    "    data = {}\n",
    "    for fname in tqdm(fnames, desc = desc):\n",
    "        df = pd.read_csv(fname)\n",
    "        bn = fname.name[:-len(ext)]\n",
    "        data[bn] = df\n",
    "        \n",
    "    return data\n",
    "\n",
    "bn = 'AUG_worm-eggs-adam-masks+Feggs+roi128+hard-neg-5_clf+unet-simple_maxlikelihood_20190808_151948_adam_lr0.000128_wd0.0_batch64'\n",
    "features_dir = Path.home() / 'workspace/WormData/screenings/pesticides_adam/'\n",
    "events_dir = Path.home() / 'workspace/WormData/egg_laying/plates/predictions/syngenta' / bn\n",
    "\n",
    "metadata_file = features_dir / 'Syngenta_Master_Metadata.csv'\n",
    "\n",
    "files_data = pd.read_csv(metadata_file)\n",
    "files_data.dropna(subset = ['File_Name'], inplace = True)\n",
    "files_data['File_Name'] = files_data['File_Name'].map(lambda x : x.rpartition('.')[0])\n",
    "\n",
    "targets = _read_egg_files(features_dir, '_eggs.csv', 'Reading Ground Truth Files')   \n",
    "events = _read_egg_files(events_dir, '_eggs_events.csv', 'Reading Events Files')\n",
    "events_filtered = _read_egg_files(events_dir, '_eggs_events_filtered.csv', 'Reading Events Filtered Files')"
   ]
  },
  {
   "cell_type": "code",
   "execution_count": 28,
   "metadata": {},
   "outputs": [
    {
     "name": "stderr",
     "output_type": "stream",
     "text": [
      "100%|██████████| 1080/1080 [00:02<00:00, 447.52it/s]"
     ]
    },
    {
     "name": "stdout",
     "output_type": "stream",
     "text": [
      "0.7964744624523794 0.952656780970034 0.8675927554070687\n",
      "0.9326076320939335 0.5888940376892184 0.7219276652149215\n"
     ]
    },
    {
     "name": "stderr",
     "output_type": "stream",
     "text": [
      "\n"
     ]
    }
   ],
   "source": [
    "metrics_unfilt = np.zeros(3)\n",
    "metrics_filt = np.zeros(3)\n",
    "for bn, target_df in tqdm(targets.items()):\n",
    "    if not bn in events:\n",
    "        continue\n",
    "    \n",
    "    target_df = target_df[target_df['frame_number'] > 0]\n",
    "    events_df = events[bn]\n",
    "    events_filt_df = events_filtered[bn]\n",
    "    \n",
    "    preds_coords = events_df[['src_x', 'src_y']].values\n",
    "    target_coords = target_df[['x', 'y']].values\n",
    "    TP, FP, FN, pred_ind, true_ind = score_coordinates(preds_coords, target_coords, max_dist = 5)\n",
    "    metrics_unfilt += TP, FP, FN\n",
    "    \n",
    "    assert len(events_filt_df) <= len(events_df)\n",
    "    filt_id = {(x,y) :i for i, (x,y) in enumerate(zip(events_filt_df['x'], events_filt_df['y']))}\n",
    "    unfilt_id = {(x,y) :i for i, (x,y) in enumerate(zip(events_df['x'], events_df['y']))}\n",
    "    \n",
    "    ind_unfilt = [unfilt_id[k] for k in filt_id.keys()]\n",
    "    \n",
    "    pred_valid = preds_coords[ind_unfilt]\n",
    "    TP, FP, FN, pred_ind, true_ind = score_coordinates(pred_valid, target_coords, max_dist = 5)\n",
    "    metrics_filt += TP, FP, FN\n",
    "    \n",
    "    \n",
    "    \n",
    "    \n",
    "    \n",
    "TP, FP, FN = metrics_unfilt\n",
    "P = TP/(TP+FP)\n",
    "R = TP/(TP+FN)\n",
    "F1 = 2*P*R/(P+R)\n",
    "\n",
    "print(P, R, F1)\n",
    "\n",
    "TP, FP, FN = metrics_filt\n",
    "P = TP/(TP+FP)\n",
    "R = TP/(TP+FN)\n",
    "F1 = 2*P*R/(P+R)\n",
    "\n",
    "print(P, R, F1)\n"
   ]
  },
  {
   "cell_type": "code",
   "execution_count": 26,
   "metadata": {},
   "outputs": [],
   "source": [
    "ind_unfilt = [unfilt_id[k] for k in filt_id.keys()]\n"
   ]
  },
  {
   "cell_type": "code",
   "execution_count": null,
   "metadata": {},
   "outputs": [],
   "source": []
  },
  {
   "cell_type": "code",
   "execution_count": null,
   "metadata": {},
   "outputs": [],
   "source": []
  }
 ],
 "metadata": {
  "kernelspec": {
   "display_name": "Python 3",
   "language": "python",
   "name": "python3"
  },
  "language_info": {
   "codemirror_mode": {
    "name": "ipython",
    "version": 3
   },
   "file_extension": ".py",
   "mimetype": "text/x-python",
   "name": "python",
   "nbconvert_exporter": "python",
   "pygments_lexer": "ipython3",
   "version": "3.7.4"
  }
 },
 "nbformat": 4,
 "nbformat_minor": 2
}

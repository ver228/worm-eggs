{
 "cells": [
  {
   "cell_type": "code",
   "execution_count": 1,
   "metadata": {},
   "outputs": [
    {
     "data": {
      "application/vnd.jupyter.widget-view+json": {
       "model_id": "503d7ca8b6af4c0fbb809d54fa543418",
       "version_major": 2,
       "version_minor": 0
      },
      "text/plain": [
       "HBox(children=(IntProgress(value=0, max=836), HTML(value='')))"
      ]
     },
     "metadata": {},
     "output_type": "display_data"
    },
    {
     "name": "stdout",
     "output_type": "stream",
     "text": [
      "\n"
     ]
    },
    {
     "data": {
      "text/plain": [
       "5001.0     20\n",
       "10001.0    14\n",
       "15001.0    14\n",
       "1.0        10\n",
       "12277.0     5\n",
       "           ..\n",
       "13604.0     1\n",
       "10254.0     1\n",
       "14636.0     1\n",
       "19555.0     1\n",
       "19975.0     1\n",
       "Name: frame_number, Length: 2524, dtype: int64"
      ]
     },
     "execution_count": 1,
     "metadata": {},
     "output_type": "execute_result"
    }
   ],
   "source": [
    "import pandas as pd\n",
    "from pathlib import Path\n",
    "from collections import defaultdict\n",
    "from tqdm import tqdm_notebook\n",
    "\n",
    "root_dir = Path.home() / 'workspace/WormData/screenings/CeNDR/Results'\n",
    "\n",
    "\n",
    "#bn = 'worm-eggs-adam-masks+Feggs+roi128+hard-neg-5_clf+unet-simple_maxlikelihood_20190808_151948_adam_lr0.000128_wd0.0_batch64'\n",
    "bn = 'AUG_worm-eggs-adam-masks+Feggs+roi128+hard-neg-5_clf+unet-simple_maxlikelihood_20190808_151948_adam_lr0.000128_wd0.0_batch64'\n",
    "\n",
    "events_dir = Path.home() / 'workspace/WormData/egg_laying_test/' / bn\n",
    "\n",
    "save_dir = events_dir / 'plots'\n",
    "save_dir.mkdir(exist_ok = True)\n",
    "\n",
    "#postfix = 'dist_from_cnt.csv'\n",
    "postfix = 'dist_from_cnt_full.csv'\n",
    "\n",
    "food_files = [x for x in events_dir.rglob('*' + postfix) if not x.name.startswith('.')]\n",
    "\n",
    "dist_data = []\n",
    "for fname in tqdm_notebook(food_files):\n",
    "    strain_name = fname.stem.partition('_')[0]\n",
    "    df = pd.read_csv(fname)\n",
    "    df['strain_name'] = strain_name\n",
    "    dist_data.append(df)\n",
    "\n",
    "dist_data = pd.concat(dist_data)\n",
    "\n",
    "dist_data['frame_number'].value_counts()\n",
    "\n",
    "# data_by_strain = defaultdict(list)\n",
    "# for fname in tqdm_notebook(food_files):\n",
    "#     strain_name = fname.stem.partition('_')[0]\n",
    "#     data_by_strain[strain_name].append(pd.read_csv(fname))\n",
    "\n",
    "    \n",
    "# for k in data_by_strain:\n",
    "#     data_by_strain[k] = pd.concat(data_by_strain[k])\n",
    "    "
   ]
  },
  {
   "cell_type": "code",
   "execution_count": 2,
   "metadata": {},
   "outputs": [],
   "source": [
    "import matplotlib.pylab as plt\n",
    "import seaborn as sns\n",
    "\n",
    "DIVERGENT_SET = ['CB4856', 'N2',  'DL238', 'CX11314', 'MY23', 'JU775', 'JT11398',\n",
    "       'EG4725', 'LKC34', 'ED3017', 'MY16', 'JU258']\n",
    "\n",
    "divergent_set_data = dist_data[dist_data['strain_name'].isin(DIVERGENT_SET)].copy()\n",
    "\n",
    "#valid = (divergent_set_data['dist_from_cnt'] > lims[0]) & (divergent_set_data['dist_from_cnt'] < lims[1])\n",
    "lims = [-500, 500]\n",
    "divergent_set_data['dist_from_cnt'] = divergent_set_data['dist_from_cnt'].clip(*lims)\n",
    "\n",
    "fig = plt.figure(figsize = (15, 5))\n",
    "ax = sns.violinplot(x=\"strain_name\", y=\"dist_from_cnt\", data=divergent_set_data)\n",
    "#ax = sns.stripplot(x=\"strain_name\", y=\"dist_from_cnt\", data=divergent_set_data, color='k')\n",
    "#ax = sns.swarmplot(x=\"strain_name\", y=\"dist_from_cnt\", data=divergent_set_data, color='k')\n",
    "\n",
    "#ax.set_ylim(*lims)\n",
    "plt.setp(ax.get_xticklabels(), rotation=45);\n",
    "\n",
    "\n",
    "\n",
    "\n"
   ]
  },
  {
   "cell_type": "code",
   "execution_count": 3,
   "metadata": {},
   "outputs": [
    {
     "data": {
      "image/png": "[encoded data removed]",
      "text/plain": [
       "<Figure size 432x288 with 1 Axes>"
      ]
     },
     "metadata": {
      "needs_background": "light"
     },
     "output_type": "display_data"
    }
   ],
   "source": [
    "#https://github.com/mwaskom/seaborn/issues/1027#issuecomment-475091285\n",
    "\n",
    "divergent_set_data = dist_data[dist_data['strain_name'].isin(DIVERGENT_SET)].copy()\n",
    "\n",
    "def label_dist(x, lims = [-500, 500]):\n",
    "    if x <= lims[0]:\n",
    "        return 'outside'\n",
    "    elif x >= lims[1]:\n",
    "        return 'inside'\n",
    "    else:\n",
    "        return 'edge'\n",
    "\n",
    "divergent_set_data['label_dist'] = divergent_set_data['dist_from_cnt'].apply(label_dist)\n",
    "\n",
    "props = divergent_set_data.groupby(\"strain_name\")['label_dist'].value_counts(normalize=True).unstack()\n",
    "props.plot(kind='bar', stacked='True')\n",
    "fig.savefig(save_dir / 'distance_from_edge.pdf')\n"
   ]
  },
  {
   "cell_type": "code",
   "execution_count": null,
   "metadata": {},
   "outputs": [],
   "source": []
  },
  {
   "cell_type": "code",
   "execution_count": null,
   "metadata": {},
   "outputs": [],
   "source": []
  },
  {
   "cell_type": "code",
   "execution_count": null,
   "metadata": {},
   "outputs": [],
   "source": []
  }
 ],
 "metadata": {
  "kernelspec": {
   "display_name": "Python 3",
   "language": "python",
   "name": "python3"
  },
  "language_info": {
   "codemirror_mode": {
    "name": "ipython",
    "version": 3
   },
   "file_extension": ".py",
   "mimetype": "text/x-python",
   "name": "python",
   "nbconvert_exporter": "python",
   "pygments_lexer": "ipython3",
   "version": "3.7.1"
  }
 },
 "nbformat": 4,
 "nbformat_minor": 2
}
